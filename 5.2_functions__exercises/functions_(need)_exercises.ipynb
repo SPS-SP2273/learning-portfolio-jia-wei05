{
 "cells": [
  {
   "attachments": {},
   "cell_type": "markdown",
   "id": "123456",
   "metadata": {},
   "source": [
    "<div style=\"text-align:left;font-size:2em\"><span style=\"font-weight:bolder;font-size:1.25em\">SP2273 | Learning Portfolio</span><br><br><span style=\"font-weight:bold;color:darkred\">Functions (Need) Exercises</span></div>"
   ]
  },
  {
   "cell_type": "markdown",
   "id": "dec05260",
   "metadata": {},
   "source": [
    "# Exercise 1"
   ]
  },
  {
   "cell_type": "code",
   "execution_count": 1,
   "id": "6813ab43",
   "metadata": {},
   "outputs": [],
   "source": [
    "def greeting(name):\n",
    "    if name == 'Batman':\n",
    "        return 'Hello Batman! So, nice to meet you!'\n",
    "    return f'Hello {name}!'"
   ]
  },
  {
   "cell_type": "markdown",
   "id": "e21bcb36",
   "metadata": {},
   "source": [
    "I think that it works because the function will skip past the if statement if its conditions are not satisfied. That will lead it to run the return function which will always be able to return the input."
   ]
  },
  {
   "cell_type": "markdown",
   "id": "23f697f9",
   "metadata": {},
   "source": [
    "# Exercise 2"
   ]
  },
  {
   "cell_type": "code",
   "execution_count": 15,
   "id": "a436e8c1",
   "metadata": {},
   "outputs": [
    {
     "data": {
      "text/plain": [
       "'Normal Weight'"
      ]
     },
     "execution_count": 15,
     "metadata": {},
     "output_type": "execute_result"
    }
   ],
   "source": [
    "# Resolving comments\n",
    "def convertible_to_float(value):\n",
    "    try:\n",
    "        float(number)\n",
    "        return True\n",
    "    except:\n",
    "        return False\n",
    "\n",
    "\n",
    "\n",
    "def calculate_bmi(height,weight):\n",
    "    assert height >0, 'Height should be positive!'\n",
    "    assert weight >0, 'Weight should be positive!'\n",
    "    BMI = weight/(height**2)\n",
    "    if BMI<18.5:\n",
    "        return 'Underweight'\n",
    "    if 18.5<=BMI<=24.9:\n",
    "        return 'Normal Weight'\n",
    "    if 25<=BMI<=29.9:\n",
    "        return 'Overweight'\n",
    "    else:\n",
    "        return 'Obese'\n",
    "\n",
    "calculate_bmi(1.72,71)"
   ]
  },
  {
   "cell_type": "code",
   "execution_count": null,
   "id": "31d75f1f",
   "metadata": {},
   "outputs": [],
   "source": [
    "def calculate_bmi(height,weight):\n",
    "    BMI = weight/(height**2)\n",
    "    if BMI<18.5:\n",
    "        return 'Underweight'\n",
    "    if 18.5<=BMI<=24.9:\n",
    "        return 'Normal Weight'\n",
    "    if 25<=BMI<=29.9:\n",
    "        return 'Overweight'\n",
    "    else:\n",
    "        return 'Obese'\n",
    "\n",
    "calculate_bmi(1.72,71)"
   ]
  },
  {
   "cell_type": "markdown",
   "id": "ad40d7e8",
   "metadata": {},
   "source": [
    "# Exercise 3"
   ]
  },
  {
   "cell_type": "code",
   "execution_count": null,
   "id": "45634456",
   "metadata": {},
   "outputs": [
    {
     "data": {
      "text/plain": [
       "1"
      ]
     },
     "execution_count": 20,
     "metadata": {},
     "output_type": "execute_result"
    }
   ],
   "source": [
    "def factorial(number):\n",
    "    if number<0:\n",
    "        return 'Please input a positive integer!'\n",
    "    elif number==0:\n",
    "        return 1\n",
    "    elif number==1:\n",
    "        return 1\n",
    "    else:                                                       # we want to compute the starting multiplication here such that we just need one nice loop to do the rest\n",
    "        working_value = number*(number-1)                       # (which are different from the first loop since the rest multiply onto the previous result)\n",
    "        for i in range(number-2):                               # -2 as we have already computed the starting multiplication, number of total multiplications is n-1\n",
    "            working_value = working_value*(number-2)\n",
    "            number = number-1                                   # to reduce the multiplied value for the next loop\n",
    "        return working_value\n",
    "    \n",
    "factorial(0)"
   ]
  },
  {
   "cell_type": "code",
   "execution_count": null,
   "id": "426ab343",
   "metadata": {},
   "outputs": [],
   "source": []
  }
 ],
 "metadata": {
  "kernelspec": {
   "display_name": "base",
   "language": "python",
   "name": "python3"
  },
  "language_info": {
   "codemirror_mode": {
    "name": "ipython",
    "version": 3
   },
   "file_extension": ".py",
   "mimetype": "text/x-python",
   "name": "python",
   "nbconvert_exporter": "python",
   "pygments_lexer": "ipython3",
   "version": "3.13.5"
  },
  "toc": {
   "base_numbering": 1,
   "nav_menu": {},
   "number_sections": true,
   "sideBar": true,
   "skip_h1_title": false,
   "title_cell": "Table of Contents",
   "title_sidebar": "Contents",
   "toc_cell": false,
   "toc_position": {},
   "toc_section_display": true,
   "toc_window_display": false
  }
 },
 "nbformat": 4,
 "nbformat_minor": 5
}

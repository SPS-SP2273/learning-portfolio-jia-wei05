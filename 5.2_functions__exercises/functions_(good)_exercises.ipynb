{
 "cells": [
  {
   "attachments": {},
   "cell_type": "markdown",
   "id": "123456",
   "metadata": {},
   "source": [
    "<div style=\"text-align:left;font-size:2em\"><span style=\"font-weight:bolder;font-size:1.25em\">SP2273 | Learning Portfolio</span><br><br><span style=\"font-weight:bold;color:darkred\">Functions (Good) Exercises</span></div>"
   ]
  },
  {
   "cell_type": "markdown",
   "id": "18773a84",
   "metadata": {},
   "source": [
    "# Exercise 1"
   ]
  },
  {
   "cell_type": "code",
   "execution_count": null,
   "id": "476a5b68",
   "metadata": {},
   "outputs": [
    {
     "data": {
      "text/plain": [
       "50.0"
      ]
     },
     "execution_count": 1,
     "metadata": {},
     "output_type": "execute_result"
    }
   ],
   "source": [
    "def convert_celcius(temperature_celcius, target_scale = 'fahrenheit'):\n",
    "    try:                                                                    # Try except to return error message\n",
    "        if target_scale == 'Kelvin':                                        # For converting to Kelvin\n",
    "            temperature_kelvin = temperature_celcius+273.15\n",
    "            return temperature_kelvin\n",
    "        else:                                                               # For converting to Fahrenheit\n",
    "            temperature_fahrenheit = temperature_celcius*9/5+32\n",
    "            return temperature_fahrenheit\n",
    "    except:\n",
    "        print('Please key in valid numbers!')\n",
    "\n",
    "convert_celcius(10)"
   ]
  },
  {
   "cell_type": "markdown",
   "id": "bf6ad070",
   "metadata": {},
   "source": [
    "# Exercise 2"
   ]
  },
  {
   "cell_type": "code",
   "execution_count": null,
   "id": "36c99735",
   "metadata": {},
   "outputs": [
    {
     "name": "stdout",
     "output_type": "stream",
     "text": [
      "Please key in valid numbers!\n"
     ]
    }
   ],
   "source": [
    "def convert_fahrenheit(temperature_fahrenheit, target_scale = 'Celcius'):\n",
    "    try:\n",
    "        if target_scale == 'Kelvin':                                        # To convert to Kelvin\n",
    "            temperature_kelvin = (temperature_fahrenheit-32)*5/9 + 273.15\n",
    "            return temperature_kelvin\n",
    "        else:                                                               # To convert to Fahrenheit\n",
    "            temperature_celcius = (temperature_fahrenheit-32)*5/9\n",
    "            return temperature_celcius\n",
    "    except:\n",
    "        print('Please key in valid numbers!')\n",
    "\n",
    "convert_fahrenheit('haha')\n",
    "    "
   ]
  },
  {
   "cell_type": "markdown",
   "id": "5efdbbd8",
   "metadata": {},
   "source": [
    "# Exercise 3"
   ]
  },
  {
   "cell_type": "code",
   "execution_count": null,
   "id": "45f6705d",
   "metadata": {},
   "outputs": [
    {
     "data": {
      "text/plain": [
       "-441.66999999999996"
      ]
     },
     "execution_count": 3,
     "metadata": {},
     "output_type": "execute_result"
    }
   ],
   "source": [
    "def convert_temperature(temperature, source_scale, target_scale):\n",
    "    try:\n",
    "        if source_scale == 'Celcius':\n",
    "            if target_scale == 'Kelvin':\n",
    "                temperature_kelvin = temperature+273.15\n",
    "                return temperature_kelvin\n",
    "            elif target_scale == 'fahrenheit':\n",
    "                temperature_fahrenheit = temperature*9/5+32\n",
    "                return temperature_fahrenheit\n",
    "            \n",
    "        if source_scale == 'Kelvin':\n",
    "            if target_scale == 'Celcius':\n",
    "                temperature_celcius = temperature-273.15\n",
    "                return temperature_celcius\n",
    "            elif target_scale == 'fahrenheit':\n",
    "                temperature_fahrenheit = (temperature-273.15)*9/5+32\n",
    "                return temperature_fahrenheit\n",
    "            \n",
    "        if source_scale == 'Fahrenheit':\n",
    "            if target_scale == 'Kelvin':\n",
    "                temperature_kelvin = (temperature-32)*5/9 + 273.15\n",
    "                return temperature_kelvin\n",
    "            if target_scale == 'Celcius':\n",
    "                temperature_celcius = (temperature-32)*5/9\n",
    "                return temperature_celcius\n",
    "    except:\n",
    "        print('Please key in valid numbers and scales (Capitalise the first letter of scales)! ')\n",
    "\n",
    "convert_temperature(10,'Kelvin','fahrenheit')"
   ]
  },
  {
   "cell_type": "code",
   "execution_count": null,
   "id": "2bd2f894",
   "metadata": {},
   "outputs": [
    {
     "data": {
      "text/plain": [
       "-203.14999999999998"
      ]
     },
     "execution_count": 7,
     "metadata": {},
     "output_type": "execute_result"
    }
   ],
   "source": [
    "# Resolving comments\n",
    "\n",
    "def convert_kelvin(temperature_kelvin, target_scale):                       # Defines convert_kelvin function for use in general conversion function later\n",
    "    try:\n",
    "        if target_scale == 'Celcius':\n",
    "            temperature_celcius = temperature_kelvin-273.15\n",
    "            return temperature_celcius\n",
    "        else:\n",
    "            temperature_fahrenheit = (temperature_kelvin-273.15)*9/5+32\n",
    "            return temperature_fahrenheit\n",
    "    except:\n",
    "        print('Pkease key in valid numbers and scales!')\n",
    "\n",
    "def convert_temperature(temperature, source_scale, target_scale):           # General conversion function takes 3 arguments\n",
    "    try:\n",
    "        if source_scale == 'Kelvin':                                        # First layer is checking which source scale it is to use the correct function\n",
    "            return convert_kelvin(temperature, target_scale)                # Next layer just takes the other arguments and places them in the previously defined functions to return the correct temperature\n",
    "        elif source_scale == 'Celcius':\n",
    "            return convert_celcius(temperature, target_scale)\n",
    "        elif source_scale == 'Fahrenheit':\n",
    "            return convert_fahrenheit(temperature, target_scale)\n",
    "        else:\n",
    "            return 'Please key in valid numbers and scales!'\n",
    "    except: print('Please key in valid numbers and scales!')\n",
    "\n",
    "convert_temperature(70, 'Kelvin', 'Celcius')\n"
   ]
  },
  {
   "cell_type": "code",
   "execution_count": null,
   "id": "21ba02ec",
   "metadata": {},
   "outputs": [],
   "source": []
  }
 ],
 "metadata": {
  "kernelspec": {
   "display_name": "base",
   "language": "python",
   "name": "python3"
  },
  "language_info": {
   "codemirror_mode": {
    "name": "ipython",
    "version": 3
   },
   "file_extension": ".py",
   "mimetype": "text/x-python",
   "name": "python",
   "nbconvert_exporter": "python",
   "pygments_lexer": "ipython3",
   "version": "3.13.5"
  },
  "toc": {
   "base_numbering": 1,
   "nav_menu": {},
   "number_sections": true,
   "sideBar": true,
   "skip_h1_title": false,
   "title_cell": "Table of Contents",
   "title_sidebar": "Contents",
   "toc_cell": false,
   "toc_position": {},
   "toc_section_display": true,
   "toc_window_display": false
  }
 },
 "nbformat": 4,
 "nbformat_minor": 5
}

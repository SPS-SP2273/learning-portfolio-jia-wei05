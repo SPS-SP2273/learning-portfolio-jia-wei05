{
 "cells": [
  {
   "attachments": {},
   "cell_type": "markdown",
   "id": "123456",
   "metadata": {},
   "source": [
    "<div style=\"text-align:left;font-size:2em\"><span style=\"font-weight:bolder;font-size:1.25em\">SP2273 | Learning Portfolio</span><br><br><span style=\"font-weight:bold;color:darkred\">Functions (Good) Exercises</span></div>"
   ]
  },
  {
   "cell_type": "markdown",
   "id": "18773a84",
   "metadata": {},
   "source": [
    "# Exercise 1"
   ]
  },
  {
   "cell_type": "code",
   "execution_count": 11,
   "id": "476a5b68",
   "metadata": {},
   "outputs": [
    {
     "data": {
      "text/plain": [
       "50.0"
      ]
     },
     "execution_count": 11,
     "metadata": {},
     "output_type": "execute_result"
    }
   ],
   "source": [
    "def convert_celcius(temperature_celcius, target_scale = 'Farenheit'):\n",
    "    try:\n",
    "        if target_scale == 'Kelvin':\n",
    "            temperature_kelvin = temperature_celcius+273.15\n",
    "            return temperature_kelvin\n",
    "        else:\n",
    "            temperature_farenheit = temperature_celcius*9/5+32\n",
    "            return temperature_farenheit\n",
    "    except:\n",
    "        print('Please key in valid numbers!')\n",
    "\n",
    "convert_celcius(10)"
   ]
  },
  {
   "cell_type": "markdown",
   "id": "bf6ad070",
   "metadata": {},
   "source": [
    "# Exercise 2"
   ]
  },
  {
   "cell_type": "code",
   "execution_count": 17,
   "id": "36c99735",
   "metadata": {},
   "outputs": [
    {
     "name": "stdout",
     "output_type": "stream",
     "text": [
      "Please key in valid numbers!\n"
     ]
    }
   ],
   "source": [
    "def convert_farenheit(temperature_farenheit, target_scale = 'Celcius'):\n",
    "    try:\n",
    "        if target_scale == 'Kelvin':\n",
    "            temperature_kelvin = (temperature_farenheit-32)*5/9 + 273.15\n",
    "            return temperature_kelvin\n",
    "        else:\n",
    "            temperature_celcius = (temperature_farenheit-32)*5/9\n",
    "            return temperature_celcius\n",
    "    except:\n",
    "        print('Please key in valid numbers!')\n",
    "\n",
    "convert_farenheit('haha')\n",
    "    "
   ]
  },
  {
   "cell_type": "markdown",
   "id": "5efdbbd8",
   "metadata": {},
   "source": [
    "# Exercise 3"
   ]
  },
  {
   "cell_type": "code",
   "execution_count": 24,
   "id": "45f6705d",
   "metadata": {},
   "outputs": [
    {
     "data": {
      "text/plain": [
       "-441.66999999999996"
      ]
     },
     "execution_count": 24,
     "metadata": {},
     "output_type": "execute_result"
    }
   ],
   "source": [
    "def convert_temperature(temperature, source_scale, target_scale):\n",
    "    try:\n",
    "        if source_scale == 'Celcius':\n",
    "            if target_scale == 'Kelvin':\n",
    "                temperature_kelvin = temperature+273.15\n",
    "                return temperature_kelvin\n",
    "            elif target_scale == 'Farenheit':\n",
    "                temperature_farenheit = temperature*9/5+32\n",
    "                return temperature_farenheit\n",
    "            \n",
    "        if source_scale == 'Kelvin':\n",
    "            if target_scale == 'Celcius':\n",
    "                temperature_celcius = temperature-273.15\n",
    "                return temperature_celcius\n",
    "            elif target_scale == 'Farenheit':\n",
    "                temperature_farenheit = (temperature-273.15)*9/5+32\n",
    "                return temperature_farenheit\n",
    "            \n",
    "        if source_scale == 'Farenheit':\n",
    "            if target_scale == 'Kelvin':\n",
    "                temperature_kelvin = (temperature-32)*5/9 + 273.15\n",
    "                return temperature_kelvin\n",
    "            if target_scale == 'Celcius':\n",
    "                temperature_celcius = (temperature-32)*5/9\n",
    "                return temperature_celcius\n",
    "    except:\n",
    "        print('Please key in valid numbers and scales (Capitalise the first letter of scales)! ')\n",
    "\n",
    "convert_temperature(10,'Kelvin','Farenheit')"
   ]
  }
 ],
 "metadata": {
  "kernelspec": {
   "display_name": "base",
   "language": "python",
   "name": "python3"
  },
  "language_info": {
   "codemirror_mode": {
    "name": "ipython",
    "version": 3
   },
   "file_extension": ".py",
   "mimetype": "text/x-python",
   "name": "python",
   "nbconvert_exporter": "python",
   "pygments_lexer": "ipython3",
   "version": "3.13.5"
  },
  "toc": {
   "base_numbering": 1,
   "nav_menu": {},
   "number_sections": true,
   "sideBar": true,
   "skip_h1_title": false,
   "title_cell": "Table of Contents",
   "title_sidebar": "Contents",
   "toc_cell": false,
   "toc_position": {},
   "toc_section_display": true,
   "toc_window_display": false
  }
 },
 "nbformat": 4,
 "nbformat_minor": 5
}

{
 "cells": [
  {
   "attachments": {},
   "cell_type": "markdown",
   "id": "123456",
   "metadata": {},
   "source": [
    "<div style=\"text-align:left;font-size:2em\"><span style=\"font-weight:bolder;font-size:1.25em\">SP2273 | Learning Portfolio</span><br><br><span style=\"font-weight:bold;color:darkred\">Using Jupyter (Need)</span></div>"
   ]
  },
  {
   "attachments": {},
   "cell_type": "markdown",
   "id": "123456",
   "metadata": {},
   "source": [
    "# What to expect in this chapter"
   ]
  },
  {
   "attachments": {},
   "cell_type": "markdown",
   "id": "123456",
   "metadata": {},
   "source": [
    "# 1 Getting ready"
   ]
  },
  {
   "cell_type": "markdown",
   "id": "20bad5df",
   "metadata": {},
   "source": []
  },
  {
   "attachments": {},
   "cell_type": "markdown",
   "id": "123456",
   "metadata": {},
   "source": [
    "# 2 Getting started with Jupyter"
   ]
  },
  {
   "cell_type": "markdown",
   "id": "f44ffffa",
   "metadata": {},
   "source": []
  },
  {
   "attachments": {},
   "cell_type": "markdown",
   "id": "123456",
   "metadata": {},
   "source": [
    "## 2.1 It is all about running cells"
   ]
  },
  {
   "attachments": {},
   "cell_type": "markdown",
   "id": "123456",
   "metadata": {},
   "source": [
    "## 2.2 A traditional start"
   ]
  },
  {
   "cell_type": "code",
   "execution_count": 3,
   "id": "1ce81144",
   "metadata": {},
   "outputs": [
    {
     "name": "stdout",
     "output_type": "stream",
     "text": [
      "Hello World!!\n"
     ]
    }
   ],
   "source": [
    "print('Hello World!!')"
   ]
  },
  {
   "attachments": {},
   "cell_type": "markdown",
   "id": "123456",
   "metadata": {},
   "source": [
    "# 3 All about Markdown"
   ]
  },
  {
   "attachments": {},
   "cell_type": "markdown",
   "id": "123456",
   "metadata": {},
   "source": [
    "## 3.1 Rendering Markdown cells"
   ]
  },
  {
   "cell_type": "markdown",
   "id": "7836a1a5",
   "metadata": {},
   "source": [
    "The ships hung in the sky in much the same way that bricks don’t.\n",
    "\n"
   ]
  },
  {
   "attachments": {},
   "cell_type": "markdown",
   "id": "123456",
   "metadata": {},
   "source": [
    "## 3.2 Some basic syntax"
   ]
  },
  {
   "cell_type": "markdown",
   "id": "80888a5c",
   "metadata": {},
   "source": [
    "The ships *hung in the sky* in much the same way that **bricks don't.** <sup>1</sup><sub>QUOTE</sub>"
   ]
  },
  {
   "attachments": {},
   "cell_type": "markdown",
   "id": "123456",
   "metadata": {},
   "source": [
    "## 3.3 Headings"
   ]
  },
  {
   "cell_type": "markdown",
   "id": "7d856a56",
   "metadata": {},
   "source": [
    "# Largest heading\n",
    "## Second largest heading\n",
    "### Third largest heading\n",
    "#### Fourth largest"
   ]
  },
  {
   "attachments": {},
   "cell_type": "markdown",
   "id": "123456",
   "metadata": {},
   "source": [
    "## 3.4 Displaying Code"
   ]
  },
  {
   "cell_type": "markdown",
   "id": "617cd8b5",
   "metadata": {},
   "source": [
    "print('Hello World!)\n",
    "\n",
    "`print('Hello World!!)`\n",
    "\n",
    "```python\n",
    "print('Hello World!!!')\n",
    "```"
   ]
  },
  {
   "attachments": {},
   "cell_type": "markdown",
   "id": "123456",
   "metadata": {},
   "source": [
    "## 3.5 Links"
   ]
  },
  {
   "cell_type": "markdown",
   "id": "a8cc655d",
   "metadata": {},
   "source": [
    "[SP2273 Website](https://sps.nus.edu.sg/sp2273)"
   ]
  },
  {
   "attachments": {},
   "cell_type": "markdown",
   "id": "123456",
   "metadata": {},
   "source": [
    "## 3.6 Images"
   ]
  },
  {
   "cell_type": "markdown",
   "id": "b0b1d303",
   "metadata": {},
   "source": [
    "![](https://nus.edu.sg/images/default-source/base/logo.png)"
   ]
  },
  {
   "attachments": {},
   "cell_type": "markdown",
   "id": "123456",
   "metadata": {},
   "source": [
    "## 3.7 Tables"
   ]
  },
  {
   "cell_type": "markdown",
   "id": "033e3937",
   "metadata": {},
   "source": [
    "| A    | B    | C    |\n",
    "|------|------|------|\n",
    "| a1   | b1   | c1   |\n",
    "| a2   | b2   | c2   |\n",
    "| a3   | b3   | x3   |"
   ]
  },
  {
   "attachments": {},
   "cell_type": "markdown",
   "id": "123456",
   "metadata": {},
   "source": [
    "## 3.8 Lists"
   ]
  },
  {
   "cell_type": "markdown",
   "id": "56b958bf",
   "metadata": {},
   "source": [
    "1. Master Yoda\n",
    "1. Luke Skywalker\n",
    "1. Anakin Skywalker"
   ]
  },
  {
   "cell_type": "markdown",
   "id": "496ddab9",
   "metadata": {},
   "source": [
    "1. Hi\n",
    "    1. Hello\n",
    "    1. Hello\n"
   ]
  },
  {
   "attachments": {},
   "cell_type": "markdown",
   "id": "123456",
   "metadata": {},
   "source": [
    "## 3.9 Equations"
   ]
  },
  {
   "cell_type": "markdown",
   "id": "9d88fbca",
   "metadata": {},
   "source": [
    "$\\sqrt{b^2-4ac}$"
   ]
  },
  {
   "cell_type": "markdown",
   "id": "7116f07f",
   "metadata": {},
   "source": [
    "$$\n",
    "x = \\dfrac{\\pm \\sqrt{b^2-4ac}-b}{2a}\n",
    "$$"
   ]
  },
  {
   "attachments": {},
   "cell_type": "markdown",
   "id": "123456",
   "metadata": {},
   "source": [
    "## Footnotes"
   ]
  }
 ],
 "metadata": {
  "kernelspec": {
   "display_name": "base",
   "language": "python",
   "name": "python3"
  },
  "language_info": {
   "codemirror_mode": {
    "name": "ipython",
    "version": 3
   },
   "file_extension": ".py",
   "mimetype": "text/x-python",
   "name": "python",
   "nbconvert_exporter": "python",
   "pygments_lexer": "ipython3",
   "version": "3.13.5"
  },
  "toc": {
   "base_numbering": 1,
   "nav_menu": {},
   "number_sections": true,
   "sideBar": true,
   "skip_h1_title": false,
   "title_cell": "Table of Contents",
   "title_sidebar": "Contents",
   "toc_cell": false,
   "toc_position": {},
   "toc_section_display": true,
   "toc_window_display": false
  }
 },
 "nbformat": 4,
 "nbformat_minor": 5
}

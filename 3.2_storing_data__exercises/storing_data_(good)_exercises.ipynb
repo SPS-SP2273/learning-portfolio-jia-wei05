{
 "cells": [
  {
   "attachments": {},
   "cell_type": "markdown",
   "id": "123456",
   "metadata": {},
   "source": [
    "<div style=\"text-align:left;font-size:2em\"><span style=\"font-weight:bolder;font-size:1.25em\">SP2273 | Learning Portfolio</span><br><br><span style=\"font-weight:bold;color:darkred\">Storing Data (Good) Exercises</span></div>"
   ]
  },
  {
   "cell_type": "markdown",
   "id": "44a70819",
   "metadata": {},
   "source": [
    "# Exercise 1"
   ]
  },
  {
   "cell_type": "markdown",
   "id": "c025f9f4",
   "metadata": {},
   "source": [
    "| Term       | Brief description |\n",
    "|------------|-------------------|\n",
    "| Subsetting |Accessing a portion of information out of a set|\n",
    "| Indexing   |Accessing 1 unit of information in a set|\n",
    "| Slicing    |Accessing more than 1 unit of information in a set|\n",
    "| Masking    |Accessing information only meeting a certain criteria|\n",
    "\n",
    "_Note: A more accurate description would be selecting one/multiple elements._   "
   ]
  },
  {
   "cell_type": "markdown",
   "id": "920bdc45",
   "metadata": {},
   "source": [
    "# Exercise 2"
   ]
  },
  {
   "cell_type": "code",
   "execution_count": null,
   "id": "48976651",
   "metadata": {},
   "outputs": [
    {
     "data": {
      "text/plain": [
       "array(['A', 'C', 'E', 'G', 'I'], dtype='<U21')"
      ]
     },
     "execution_count": 8,
     "metadata": {},
     "output_type": "execute_result"
    }
   ],
   "source": [
    "import numpy as np\n",
    "np_array_2d = np.array([[1, \"A\"], [3, \"C\"], [2, \"B\"], [4, \"D\"],\n",
    "                        [5, \"E\"], [7, \"G\"], [6, \"F\"], [8, \"H\"],\n",
    "                        [10, \"J\"], [9, \"I\"]])\n",
    "\n",
    "np_array_2d[:,0]\n",
    "\n",
    "int_array = np_array_2d[:,0].astype(int) #extracts numbers and converts them to integers to process them instead of them being in strings\n",
    "\n",
    "remainder_array = int_array%2            #creates new array containing remainders after division by 2\n",
    "\n",
    "remainder_array==1                       #checks whether remainder is 1\n",
    "\n",
    "np_array_2d[remainder_array==1,1]        #the mask (remainder_array==1) results in elements being extracted when remainder is 1, the '1' after the comma directs the second item in the element to be extracted"
   ]
  },
  {
   "cell_type": "markdown",
   "id": "9c2efe9f",
   "metadata": {},
   "source": [
    "# Exercise 3"
   ]
  },
  {
   "cell_type": "code",
   "execution_count": 2,
   "id": "9da77168",
   "metadata": {},
   "outputs": [],
   "source": [
    "import numpy as np"
   ]
  },
  {
   "cell_type": "code",
   "execution_count": null,
   "id": "80b313e1",
   "metadata": {},
   "outputs": [
    {
     "data": {
      "text/plain": [
       "array([-1, -1, -1, -1, -1, -1, -1, -1, -1, -1, -1, -1, -1])"
      ]
     },
     "execution_count": 3,
     "metadata": {},
     "output_type": "execute_result"
    }
   ],
   "source": [
    "start_array = np.array([[66, 50, 57, -1, -1],\n",
    "                        [92, -1, 88, -1, -1],\n",
    "                        [75, -1, -1, 76, -1],\n",
    "                        [-1, 51, 87, -1, -1],\n",
    "                        [71, -1, 67, -1, 69]])\n",
    "\n",
    "start_array[start_array<50] = -1\n"
   ]
  },
  {
   "cell_type": "code",
   "execution_count": null,
   "id": "b5dce91d",
   "metadata": {},
   "outputs": [
    {
     "ename": "IndexError",
     "evalue": "index 66 is out of bounds for axis 0 with size 5",
     "output_type": "error",
     "traceback": [
      "\u001b[31m---------------------------------------------------------------------------\u001b[39m",
      "\u001b[31mIndexError\u001b[39m                                Traceback (most recent call last)",
      "\u001b[36mCell\u001b[39m\u001b[36m \u001b[39m\u001b[32mIn[37]\u001b[39m\u001b[32m, line 11\u001b[39m\n\u001b[32m      8\u001b[39m start_array[neg_array] = -\u001b[32m1\u001b[39m\n\u001b[32m     10\u001b[39m pos_array = start_array[start_array>\u001b[32m50\u001b[39m]\n\u001b[32m---> \u001b[39m\u001b[32m11\u001b[39m \u001b[43mstart_array\u001b[49m\u001b[43m[\u001b[49m\u001b[43mpos_array\u001b[49m\u001b[43m]\u001b[49m = \u001b[32m1\u001b[39m\n\u001b[32m     13\u001b[39m start_array\n",
      "\u001b[31mIndexError\u001b[39m: index 66 is out of bounds for axis 0 with size 5"
     ]
    }
   ],
   "source": [
    "start_array = np.array([[66, 50, 57, -1, -1],\n",
    "                        [92, -1, 88, -1, -1],\n",
    "                        [75, -1, -1, 76, -1],\n",
    "                        [-1, 51, 87, -1, -1],\n",
    "                        [71, -1, 67, -1, 69]])\n",
    "\n",
    "neg_array = start_array[start_array<50]          # Generates an array that is of different dimension compared to start array\n",
    "start_array[neg_array] = -1                      # This isn't a mask, its not really doing anything\n",
    "\n",
    "pos_array = start_array[start_array>50]\n",
    "start_array[pos_array] = 1                       #why does this not work? refer to above comments ^\n",
    "\n",
    "start_array\n",
    "\n"
   ]
  },
  {
   "cell_type": "code",
   "execution_count": null,
   "id": "102c626e",
   "metadata": {},
   "outputs": [
    {
     "data": {
      "text/plain": [
       "array([[ 1,  0,  1, -1, -1],\n",
       "       [ 1, -1,  1, -1, -1],\n",
       "       [ 1, -1, -1,  1, -1],\n",
       "       [-1,  1,  1, -1, -1],\n",
       "       [ 1, -1,  1, -1,  1]])"
      ]
     },
     "execution_count": 42,
     "metadata": {},
     "output_type": "execute_result"
    }
   ],
   "source": [
    "start_array = np.array([[66, 50, 57, -1, -1],\n",
    "                        [92, -1, 88, -1, -1],\n",
    "                        [75, -1, -1, 76, -1],\n",
    "                        [-1, 51, 87, -1, -1],\n",
    "                        [71, -1, 67, -1, 69]])  #creates array for use\n",
    "\n",
    "\n",
    "start_array[start_array<50] = -1                #changes all elements that fit the condition to the corresponding value\n",
    "\n",
    "start_array[start_array>50] = 1\n",
    "\n",
    "start_array[start_array==50] = 0\n",
    "\n",
    "start_array\n"
   ]
  },
  {
   "cell_type": "code",
   "execution_count": null,
   "id": "3ea30e90",
   "metadata": {},
   "outputs": [
    {
     "data": {
      "text/plain": [
       "array([[ 1,  0,  1, -1, -1],\n",
       "       [ 1, -1,  1, -1, -1],\n",
       "       [ 1, -1, -1,  1, -1],\n",
       "       [-1,  1,  1, -1, -1],\n",
       "       [ 1, -1,  1, -1,  1]])"
      ]
     },
     "execution_count": 2,
     "metadata": {},
     "output_type": "execute_result"
    }
   ],
   "source": [
    "# Resolving comment\n",
    "import numpy as np\n",
    "start_array = np.array([[66, 50, 57, -1, -1],\n",
    "                        [92, -1, 88, -1, -1],\n",
    "                        [75, -1, -1, 76, -1],\n",
    "                        [-1, 51, 87, -1, -1],\n",
    "                        [71, -1, 67, -1, 69]])  #creates array for use\n",
    "\n",
    "calc_array = start_array\n",
    "\n",
    "calc_array[calc_array<50] = -1                #changes all elements that fit the condition to the corresponding value\n",
    "\n",
    "calc_array[calc_array>50] = 1\n",
    "\n",
    "calc_array[start_array==50] = 0               # This still works, probably because they are both the same size?\n",
    "\n",
    "calc_array"
   ]
  },
  {
   "cell_type": "code",
   "execution_count": null,
   "id": "5a4d22a8",
   "metadata": {},
   "outputs": [],
   "source": []
  }
 ],
 "metadata": {
  "kernelspec": {
   "display_name": "base",
   "language": "python",
   "name": "python3"
  },
  "language_info": {
   "codemirror_mode": {
    "name": "ipython",
    "version": 3
   },
   "file_extension": ".py",
   "mimetype": "text/x-python",
   "name": "python",
   "nbconvert_exporter": "python",
   "pygments_lexer": "ipython3",
   "version": "3.13.5"
  },
  "toc": {
   "base_numbering": 1,
   "nav_menu": {},
   "number_sections": true,
   "sideBar": true,
   "skip_h1_title": false,
   "title_cell": "Table of Contents",
   "title_sidebar": "Contents",
   "toc_cell": false,
   "toc_position": {},
   "toc_section_display": true,
   "toc_window_display": false
  }
 },
 "nbformat": 4,
 "nbformat_minor": 5
}

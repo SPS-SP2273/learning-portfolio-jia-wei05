{
 "cells": [
  {
   "attachments": {},
   "cell_type": "markdown",
   "id": "123456",
   "metadata": {},
   "source": [
    "<div style=\"text-align:left;font-size:2em\"><span style=\"font-weight:bolder;font-size:1.25em\">SP2273 | Learning Portfolio</span><br><br><span style=\"font-weight:bold;color:darkred\">Storing Data (Need) Exercises</span></div>"
   ]
  },
  {
   "cell_type": "markdown",
   "id": "904ce20d",
   "metadata": {},
   "source": [
    "# Exercise 1"
   ]
  },
  {
   "cell_type": "markdown",
   "id": "32cd66e6",
   "metadata": {},
   "source": [
    "1. Lists and arrays can make use of the following functions: max, min, and mean.\n",
    "2. Lists accept information in multiple different formats (such as str, int) while arrays only accept one type. When using addition and multiplication, lists grow in size while the operations are performed element-wise on arrays.\n",
    "3. A dictionary is characterised by a key-value system, where each key corresponds to a value. Therefore specific information can be recalled by unique labels."
   ]
  },
  {
   "cell_type": "markdown",
   "id": "2487f2db",
   "metadata": {},
   "source": [
    "# Exercise 2"
   ]
  },
  {
   "cell_type": "code",
   "execution_count": 1,
   "id": "0f0eeb55",
   "metadata": {},
   "outputs": [
    {
     "name": "stdout",
     "output_type": "stream",
     "text": [
      "a1\n",
      "c3\n",
      "e5\n",
      "g7\n",
      "i9\n"
     ]
    }
   ],
   "source": [
    "py_list = [\"a1\", \"b2\", \"c3\", \"d4\", \"e5\", \"f6\", \"g7\", \"h8\", \"i9\", \"j10\"]\n",
    "print(py_list[0])   # Prints 'a1'\n",
    "print(py_list[2])   # Prints 'c3'\n",
    "print(py_list[4])   # Prints 'e5'\n",
    "print(py_list[6])   # Prints 'g7'\n",
    "print(py_list[8])   # Prints 'i9'"
   ]
  },
  {
   "cell_type": "markdown",
   "id": "70a06fa6",
   "metadata": {},
   "source": [
    "# Exercise 3"
   ]
  },
  {
   "cell_type": "code",
   "execution_count": 20,
   "id": "ac0e3675",
   "metadata": {},
   "outputs": [
    {
     "name": "stdout",
     "output_type": "stream",
     "text": [
      "Beryllium\n",
      "Beryllium\n"
     ]
    }
   ],
   "source": [
    "elements = ['Hydrogen',\n",
    "            'Helium', 'Lithium',\n",
    "            'Beryllium', 'Boron', 'Carbon',\n",
    "            'Nitrogen', 'Oxygen',\n",
    "            'Fluorine',\n",
    "            'Neon']\n",
    "\n",
    "print(elements[3])\n",
    "print(elements[-7])"
   ]
  },
  {
   "cell_type": "code",
   "execution_count": 21,
   "id": "983a1d47",
   "metadata": {},
   "outputs": [
    {
     "data": {
      "text/plain": [
       "np.int64(9)"
      ]
     },
     "execution_count": 21,
     "metadata": {},
     "output_type": "execute_result"
    }
   ],
   "source": [
    "numbers=[45, 60, 1, 30, 96, 1, 96, 57, 16, 1,\n",
    "        99, 62, 86, 43, 42, 60, 59, 1, 1, 35,\n",
    "        83, 47, 34, 28, 68, 23, 22, 92, 1, 79,\n",
    "        1, 29, 94, 72, 46, 47, 1, 74, 32, 20,\n",
    "        8, 37, 35, 1, 89, 29, 86, 19, 43, 61]                  \n",
    "\n",
    "import numpy as np\n",
    "\n",
    "np_numbers = np.array(numbers)\n",
    "\n",
    "result_array = np.array(np_numbers == 1)        #Takes the result of this question (np_numbers == 1) and places it into a second array so we can work with it.\n",
    "\n",
    "result_array.sum()                              #Therefore there are 9 1s."
   ]
  },
  {
   "cell_type": "markdown",
   "id": "66f0eade",
   "metadata": {},
   "source": [
    "Formula used for correlation coefficient:\n",
    "$r=\\dfrac{\\sum(x-\\overline{x})(y-\\overline{y})}{\\sqrt{[\\sum(x-\\overline{x})^2][\\sum(y-\\overline{y})^2]}}=\\dfrac{\\sum(x-\\overline{x})(y-\\overline{y})}{n\\sigma_x\\sigma_y}$\n",
    "\n"
   ]
  },
  {
   "cell_type": "code",
   "execution_count": null,
   "id": "fbf8bc7e",
   "metadata": {},
   "outputs": [
    {
     "name": "stdout",
     "output_type": "stream",
     "text": [
      "The means of x_1 and x_2 respectively are 38.5 and 302.5\n",
      "The standard deviations of x_1 and x_2 respectively are 32.41990129534635 and 326.0893282522444\n",
      "Manually calculated coefficient value is [0.98717966]\n"
     ]
    },
    {
     "data": {
      "text/plain": [
       "array([[1.        , 0.98717966],\n",
       "       [0.98717966, 1.        ]])"
      ]
     },
     "execution_count": 56,
     "metadata": {},
     "output_type": "execute_result"
    }
   ],
   "source": [
    "#Attempt 1 with formula on right, worked out after a math problem was fixed\n",
    "x_1 = [1, 4, 9, 16, 25, 36, 49, 64, 81, 100]\n",
    "x_2 = [1, 8, 27, 64, 125, 216, 343, 512, 729, 1000]\n",
    "\n",
    "x1_array = np.array(x_1)\n",
    "x2_array = np.array(x_2)\n",
    "\n",
    "x1_mean = x1_array.mean()\n",
    "x2_mean = x2_array.mean()\n",
    "\n",
    "print('The means of x_1 and x_2 respectively are', x1_mean,'and', x2_mean)\n",
    "\n",
    "x1_std = x1_array.std()                         #calculates the standard deviation\n",
    "x2_std = x2_array.std()\n",
    "\n",
    "print('The standard deviations of x_1 and x_2 respectively are', x1_std, 'and', x2_std)\n",
    "\n",
    "x1_dev = x1_array - x1_mean                     #calculates the deviations (value - mean) for use in correlation formula later\n",
    "x2_dev = x2_array - x2_mean\n",
    "\n",
    "pre_sum_numerator_array = x1_dev * x2_dev                                 #placeholder for summation to get numerator\n",
    "numerator = [pre_sum_numerator_array.sum()]\n",
    "\n",
    "manual_correlation_value = numerator/(10*(x1_std*x2_std))\n",
    "\n",
    "print('Manually calculated coefficient value is', manual_correlation_value)\n",
    "\n",
    "np.corrcoef(x_1,x_2) #The value is the same."
   ]
  },
  {
   "cell_type": "code",
   "execution_count": null,
   "id": "23c19a06",
   "metadata": {},
   "outputs": [
    {
     "name": "stdout",
     "output_type": "stream",
     "text": [
      "The means of x_1 and x_2 respectively are 38.5 and 302.5\n",
      "The standard deviations of x_1 and x_2 respectively are 32.41990129534635 and 326.0893282522444\n",
      "[0.98717966]\n"
     ]
    },
    {
     "data": {
      "text/plain": [
       "array([[1.        , 0.98717966],\n",
       "       [0.98717966, 1.        ]])"
      ]
     },
     "execution_count": 57,
     "metadata": {},
     "output_type": "execute_result"
    }
   ],
   "source": [
    "#Attempt 2 using formula on left\n",
    "import math\n",
    "x_1 = [1, 4, 9, 16, 25, 36, 49, 64, 81, 100]\n",
    "x_2 = [1, 8, 27, 64, 125, 216, 343, 512, 729, 1000]\n",
    "\n",
    "x1_array = np.array(x_1)\n",
    "x2_array = np.array(x_2)\n",
    "\n",
    "x1_mean = x1_array.mean()\n",
    "x2_mean = x2_array.mean()\n",
    "\n",
    "print('The means of x_1 and x_2 respectively are', x1_mean,'and', x2_mean)\n",
    "\n",
    "x1_std = x1_array.std()                         # calculates the standard deviation\n",
    "x2_std = x2_array.std()\n",
    "\n",
    "print('The standard deviations of x_1 and x_2 respectively are', x1_std, 'and', x2_std)\n",
    "\n",
    "x1_dev = x1_array - x1_mean                     # calculates the deviations (value - mean) for use in correlation formula later\n",
    "x2_dev = x2_array - x2_mean\n",
    "\n",
    "pre_sum_numerator_array = x1_dev * x2_dev                                 # placeholder for summation to get numerator\n",
    "numerator = [np.sum(pre_sum_numerator_array)]                             \n",
    "\n",
    "a = np.sum(x1_dev**2)\n",
    "b = np.sum(x2_dev**2)                               # i suppose doing .sum instead of np.sum() converts into list? nope dont know whats wrong\n",
    "                                                    # found the problem, using square brackets [] too liberally turns stuff into lists \n",
    "manual_correlation_value_2 = numerator/np.sqrt(a*b)\n",
    "\n",
    "print(manual_correlation_value_2) \n",
    "\n",
    "np.corrcoef(x_1,x_2) #The value is the same."
   ]
  }
 ],
 "metadata": {
  "kernelspec": {
   "display_name": "base",
   "language": "python",
   "name": "python3"
  },
  "language_info": {
   "codemirror_mode": {
    "name": "ipython",
    "version": 3
   },
   "file_extension": ".py",
   "mimetype": "text/x-python",
   "name": "python",
   "nbconvert_exporter": "python",
   "pygments_lexer": "ipython3",
   "version": "3.13.5"
  },
  "toc": {
   "base_numbering": 1,
   "nav_menu": {},
   "number_sections": true,
   "sideBar": true,
   "skip_h1_title": false,
   "title_cell": "Table of Contents",
   "title_sidebar": "Contents",
   "toc_cell": false,
   "toc_position": {},
   "toc_section_display": true,
   "toc_window_display": false
  }
 },
 "nbformat": 4,
 "nbformat_minor": 5
}

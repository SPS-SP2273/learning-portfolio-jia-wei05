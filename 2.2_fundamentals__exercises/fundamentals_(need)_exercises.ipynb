{
 "cells": [
  {
   "attachments": {},
   "cell_type": "markdown",
   "id": "123456",
   "metadata": {},
   "source": [
    "<div style=\"text-align:left;font-size:2em\"><span style=\"font-weight:bolder;font-size:1.25em\">SP2273 | Learning Portfolio</span><br><br><span style=\"font-weight:bold;color:darkred\">Fundamentals (Need) Exercises</span></div>"
   ]
  },
  {
   "cell_type": "markdown",
   "id": "b6367158",
   "metadata": {},
   "source": [
    "# Exercise 1"
   ]
  },
  {
   "cell_type": "markdown",
   "id": "6c941455",
   "metadata": {},
   "source": [
    "1. if/else \n",
    "2. . indicating ownership\n",
    "3. importing packages\n",
    "4. using and defining functions\n",
    "5. printing\n",
    "6. commenting with #\n",
    "7. _Python is case sensitive_\n",
    "8. _= used to define variables, == used to check for same value_\n",
    "9. _use of indentations to seperate blocks of code_\n",
    "10. _using and defining variables_\n",
    "11. _use of () -functions, math [] -lists {} -dictionary"
   ]
  },
  {
   "cell_type": "markdown",
   "id": "f35f3ce6",
   "metadata": {},
   "source": [
    "# Exercise 2"
   ]
  },
  {
   "cell_type": "code",
   "execution_count": 8,
   "id": "4ef6df29",
   "metadata": {},
   "outputs": [
    {
     "name": "stdout",
     "output_type": "stream",
     "text": [
      "3 4 5.0\n"
     ]
    }
   ],
   "source": [
    "import math\n",
    "x, y = 3, 4\n",
    "z = math.sqrt(x**2 + y**2)\n",
    "print(x, y, z)"
   ]
  },
  {
   "cell_type": "markdown",
   "id": "863a771a",
   "metadata": {},
   "source": [
    "# Exercise 3"
   ]
  },
  {
   "cell_type": "markdown",
   "id": "7683a16e",
   "metadata": {},
   "source": [
    "| #  | Term         | Description |\n",
    "|----|--------------|-------------|\n",
    "| 1  | Functions    |A function executes an action or a series of actions using the arguments provided.|\n",
    "| 2  | Arguments    |An argument is information required by the function to work.|\n",
    "| 3  | Comments     |Comments are texts not part of the code but for people to read, usually describing what the code is used for.|\n",
    "| 4  | Indentations |Indentations seperate different blocks of code such that python knows what order to execute them and makes everything look nicer.|\n",
    "| 5  | Packages     |Packages provide more functionality to python that is not deemed important enough to be in the base package but provide a lot more options.|\n",
    "| 6  | .            |The dot (.) is a way of showing something belonging to something else such as imported functions belonging to the package they came from.|\n",
    "| 7  | :            |The colon is used in if/else to tell python what to do if any conditions are met, and is also used to designate an item in the dictionary with a unique key.|\n",
    "| 8  | []           |Square brackets are used for lists to store information.|\n",
    "| 9  | [[],[]]      |This looks like the format for a 2d list, also used for storing information.|\n",
    "| 10 | {}           |Curly brackets are used to store information in dictionaries where they have a key attached to them, uniquely identifying them within the dictionary.|"
   ]
  },
  {
   "cell_type": "markdown",
   "id": "1150ff56",
   "metadata": {},
   "source": [
    "# Exercise 4"
   ]
  },
  {
   "cell_type": "code",
   "execution_count": null,
   "id": "8cc959fa",
   "metadata": {},
   "outputs": [
    {
     "data": {
      "text/plain": [
       "2.5"
      ]
     },
     "execution_count": 14,
     "metadata": {},
     "output_type": "execute_result"
    }
   ],
   "source": [
    "5/2 # Gives the exact result from dividing up to a certain number of decimal places"
   ]
  },
  {
   "cell_type": "code",
   "execution_count": null,
   "id": "e3da4638",
   "metadata": {},
   "outputs": [
    {
     "data": {
      "text/plain": [
       "2"
      ]
     },
     "execution_count": 10,
     "metadata": {},
     "output_type": "execute_result"
    }
   ],
   "source": [
    "5//2 #Gives the whole number result from division and truncates the decimal places (rounding down)"
   ]
  },
  {
   "cell_type": "code",
   "execution_count": null,
   "id": "a5f60a41",
   "metadata": {},
   "outputs": [
    {
     "data": {
      "text/plain": [
       "1"
      ]
     },
     "execution_count": 11,
     "metadata": {},
     "output_type": "execute_result"
    }
   ],
   "source": [
    "5%2 #Gives the remainder after division"
   ]
  },
  {
   "cell_type": "code",
   "execution_count": 20,
   "id": "fcbd7a09",
   "metadata": {},
   "outputs": [
    {
     "data": {
      "text/plain": [
       "1"
      ]
     },
     "execution_count": 20,
     "metadata": {},
     "output_type": "execute_result"
    }
   ],
   "source": [
    "9%4\n"
   ]
  },
  {
   "cell_type": "code",
   "execution_count": null,
   "id": "c3baa9a3",
   "metadata": {},
   "outputs": [],
   "source": []
  }
 ],
 "metadata": {
  "kernelspec": {
   "display_name": "base",
   "language": "python",
   "name": "python3"
  },
  "language_info": {
   "codemirror_mode": {
    "name": "ipython",
    "version": 3
   },
   "file_extension": ".py",
   "mimetype": "text/x-python",
   "name": "python",
   "nbconvert_exporter": "python",
   "pygments_lexer": "ipython3",
   "version": "3.13.5"
  },
  "toc": {
   "base_numbering": 1,
   "nav_menu": {},
   "number_sections": true,
   "sideBar": true,
   "skip_h1_title": false,
   "title_cell": "Table of Contents",
   "title_sidebar": "Contents",
   "toc_cell": false,
   "toc_position": {},
   "toc_section_display": true,
   "toc_window_display": false
  }
 },
 "nbformat": 4,
 "nbformat_minor": 5
}

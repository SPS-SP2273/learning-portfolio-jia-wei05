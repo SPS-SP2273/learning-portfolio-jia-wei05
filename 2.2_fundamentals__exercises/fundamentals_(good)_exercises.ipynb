{
 "cells": [
  {
   "attachments": {},
   "cell_type": "markdown",
   "id": "123456",
   "metadata": {},
   "source": [
    "<div style=\"text-align:left;font-size:2em\"><span style=\"font-weight:bolder;font-size:1.25em\">SP2273 | Learning Portfolio</span><br><br><span style=\"font-weight:bold;color:darkred\">Fundamentals (Good) Exercises</span></div>"
   ]
  },
  {
   "cell_type": "markdown",
   "id": "5bb756c8",
   "metadata": {},
   "source": [
    "# Exercise 1"
   ]
  },
  {
   "cell_type": "code",
   "execution_count": 2,
   "id": "280a2b80",
   "metadata": {},
   "outputs": [
    {
     "name": "stdout",
     "output_type": "stream",
     "text": [
      "You entered 42\n"
     ]
    }
   ],
   "source": [
    "user_input = input('Please provide me with a number?')\n",
    "print('You entered', user_input)\n",
    "\n"
   ]
  },
  {
   "cell_type": "code",
   "execution_count": 4,
   "id": "aa2a4b01",
   "metadata": {},
   "outputs": [
    {
     "name": "stdout",
     "output_type": "stream",
     "text": [
      "How you DOIN JIa Wei!\n"
     ]
    }
   ],
   "source": [
    "username_input = input('What is your name?')\n",
    "print(f'How you DOIN {username_input}!')"
   ]
  },
  {
   "cell_type": "code",
   "execution_count": 5,
   "id": "69bc08d7",
   "metadata": {},
   "outputs": [
    {
     "name": "stdout",
     "output_type": "stream",
     "text": [
      "My name is Jia Wei and I am 20 years old.\n"
     ]
    }
   ],
   "source": [
    "name1_input = input('What is your name?')\n",
    "age1_input = input('What is your age?')\n",
    "print(f'My name is {name1_input} and I am {age1_input} years old.')"
   ]
  },
  {
   "cell_type": "code",
   "execution_count": null,
   "id": "0028d9c0",
   "metadata": {},
   "outputs": [
    {
     "name": "stdout",
     "output_type": "stream",
     "text": [
      "The value of pi to 2 decimal places is 3.14\n",
      "The value of pi to 3 decimal places is 3.142\n",
      "The value of pi to 4 decimal places is 3.1416\n"
     ]
    }
   ],
   "source": [
    "pi = 3.141592653589793\n",
    "\n",
    "print(f'The value of pi to 2 decimal places is {pi:<.3}')\n",
    "print(f'The value of pi to 3 decimal places is {pi:<.4}')\n",
    "print(f'The value of pi to 4 decimal places is {pi:<.5}')\n",
    "\n",
    "\n"
   ]
  },
  {
   "cell_type": "code",
   "execution_count": 23,
   "id": "d0f18007",
   "metadata": {},
   "outputs": [
    {
     "name": "stdout",
     "output_type": "stream",
     "text": [
      "The value of pi to 2 decimal places is 3.14\n",
      "\n",
      "The value of pi to 3 decimal places is 3.142\n",
      "\n",
      "The value of pi to 4 decimal places is 3.1416\n"
     ]
    }
   ],
   "source": [
    "pi = 3.141592653589793\n",
    "\n",
    "print(f'The value of pi to 2 decimal places is {pi:<.3}\\n\\nThe value of pi to 3 decimal places is {pi:<.4}\\n\\nThe value of pi to 4 decimal places is {pi:<.5}')"
   ]
  },
  {
   "cell_type": "code",
   "execution_count": 31,
   "id": "6eddc386",
   "metadata": {},
   "outputs": [
    {
     "name": "stdout",
     "output_type": "stream",
     "text": [
      "Apple      $ 0.99\n",
      "Banana     $ 0.59\n",
      "Orange     $ 1.29\n"
     ]
    }
   ],
   "source": [
    "print(f'{'Apple':<10}{'$':>2}{0.99:>5}\\n{'Banana':<10}{'$':>2}{0.59:>5}\\n{'Orange':<10}{'$':>2}{1.29:>5}')"
   ]
  },
  {
   "cell_type": "markdown",
   "id": "4767f409",
   "metadata": {},
   "source": [
    "# Exercise 2"
   ]
  },
  {
   "cell_type": "code",
   "execution_count": 50,
   "id": "3a94984f",
   "metadata": {},
   "outputs": [
    {
     "ename": "ValueError",
     "evalue": "could not convert string to float: 'a'",
     "output_type": "error",
     "traceback": [
      "\u001b[31m---------------------------------------------------------------------------\u001b[39m",
      "\u001b[31mValueError\u001b[39m                                Traceback (most recent call last)",
      "\u001b[36mCell\u001b[39m\u001b[36m \u001b[39m\u001b[32mIn[50]\u001b[39m\u001b[32m, line 3\u001b[39m\n\u001b[32m      1\u001b[39m score_input = \u001b[38;5;28minput\u001b[39m(\u001b[33m'\u001b[39m\u001b[33mWhat is your score? Please enter value from 0-100\u001b[39m\u001b[33m'\u001b[39m)\n\u001b[32m----> \u001b[39m\u001b[32m3\u001b[39m \u001b[38;5;28;01mif\u001b[39;00m \u001b[32m0\u001b[39m<=\u001b[38;5;28;43mfloat\u001b[39;49m\u001b[43m(\u001b[49m\u001b[43mscore_input\u001b[49m\u001b[43m)\u001b[49m<=\u001b[32m100\u001b[39m:\n\u001b[32m      4\u001b[39m     score_input = \u001b[38;5;28mfloat\u001b[39m(score_input)  \n\u001b[32m      5\u001b[39m \u001b[38;5;28;01melse\u001b[39;00m:\n",
      "\u001b[31mValueError\u001b[39m: could not convert string to float: 'a'"
     ]
    }
   ],
   "source": [
    "score_input = input('What is your score? Please enter value from 0-100')\n",
    "\n",
    "if 0<=float(score_input)<=100:\n",
    "    score_input = float(score_input)  \n",
    "else:\n",
    "    print('Please key in a value from 0 to 100!')\n",
    "\n",
    "\n",
    "A = 70\n",
    "B = 50\n",
    "C = 35\n",
    "if score_input >= A:\n",
    "    print('You got an A! Congrats!')\n",
    "elif score_input >= B:\n",
    "    print(\"You got a B!\")\n",
    "elif score_input >= C:\n",
    "    print('You got a C.')\n",
    "elif score_input < C:\n",
    "    print('You failed...')"
   ]
  },
  {
   "cell_type": "code",
   "execution_count": 64,
   "id": "23acb4dc",
   "metadata": {},
   "outputs": [
    {
     "name": "stdout",
     "output_type": "stream",
     "text": [
      "You got a B!\n"
     ]
    }
   ],
   "source": [
    "score_input = input('What is your score? Please enter value from 0-100')\n",
    "\n",
    "try:                                                                       #not sure how else to create an error message without try/except\n",
    "    0<=float(score_input)<=100\n",
    "except:\n",
    "    print('Please key in a value from 0 to 100!')\n",
    "\n",
    "score_input = float(score_input)\n",
    "\n",
    "A = 70\n",
    "B = 50\n",
    "C = 35\n",
    "\n",
    "if not 0<=float(score_input)<=100:\n",
    "    print('Please key in a valid score!')\n",
    "elif score_input >= A:\n",
    "    print('You got an A! Congrats!')\n",
    "elif score_input >= B:\n",
    "    print(\"You got a B!\")\n",
    "elif score_input >= C:\n",
    "    print('You got a C.')\n",
    "elif score_input < C:\n",
    "    print('You failed...')\n",
    "\n"
   ]
  },
  {
   "cell_type": "code",
   "execution_count": 71,
   "id": "4d84e0f8",
   "metadata": {},
   "outputs": [
    {
     "name": "stdout",
     "output_type": "stream",
     "text": [
      "120\n",
      "Invalid input\n"
     ]
    }
   ],
   "source": [
    "def factorial(n):\n",
    "    if n < 0:\n",
    "        return \"Invalid input\"\n",
    "    elif n == 0:\n",
    "        return 1\n",
    "    else:\n",
    "        result = 1\n",
    "        for number in range(1, n+1):\n",
    "            result *= number\n",
    "        return result\n",
    "\n",
    "\n",
    "print(factorial(5))   # Testing, expected output: 120\n",
    "print(factorial(-1))  # Testing, expected output: Invalid input"
   ]
  }
 ],
 "metadata": {
  "kernelspec": {
   "display_name": "base",
   "language": "python",
   "name": "python3"
  },
  "language_info": {
   "codemirror_mode": {
    "name": "ipython",
    "version": 3
   },
   "file_extension": ".py",
   "mimetype": "text/x-python",
   "name": "python",
   "nbconvert_exporter": "python",
   "pygments_lexer": "ipython3",
   "version": "3.13.5"
  },
  "toc": {
   "base_numbering": 1,
   "nav_menu": {},
   "number_sections": true,
   "sideBar": true,
   "skip_h1_title": false,
   "title_cell": "Table of Contents",
   "title_sidebar": "Contents",
   "toc_cell": false,
   "toc_position": {},
   "toc_section_display": true,
   "toc_window_display": false
  }
 },
 "nbformat": 4,
 "nbformat_minor": 5
}

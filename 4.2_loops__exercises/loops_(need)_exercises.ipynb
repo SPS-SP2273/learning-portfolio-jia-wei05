{
 "cells": [
  {
   "attachments": {},
   "cell_type": "markdown",
   "id": "123456",
   "metadata": {},
   "source": [
    "<div style=\"text-align:left;font-size:2em\"><span style=\"font-weight:bolder;font-size:1.25em\">SP2273 | Learning Portfolio</span><br><br><span style=\"font-weight:bold;color:darkred\">Loops (Need) Exercises</span></div>"
   ]
  },
  {
   "cell_type": "markdown",
   "id": "0f5b6526",
   "metadata": {},
   "source": [
    "# Exercise 1"
   ]
  },
  {
   "cell_type": "code",
   "execution_count": null,
   "id": "8ed93c72",
   "metadata": {},
   "outputs": [
    {
     "name": "stdout",
     "output_type": "stream",
     "text": [
      "Celcius: 0, Farenheit: 32.0\n",
      "Celcius: 5, Farenheit: 41.0\n",
      "Celcius: 10, Farenheit: 50.0\n",
      "Celcius: 15, Farenheit: 59.0\n",
      "Celcius: 20, Farenheit: 68.0\n",
      "Celcius: 25, Farenheit: 77.0\n",
      "Celcius: 30, Farenheit: 86.0\n",
      "Celcius: 35, Farenheit: 95.0\n",
      "Celcius: 40, Farenheit: 104.0\n",
      "Celcius: 45, Farenheit: 113.0\n",
      "Celcius: 50, Farenheit: 122.0\n"
     ]
    }
   ],
   "source": [
    "# Resolving comment (without using numpy)\n",
    "#using for and enumerate\n",
    "temperatures_celsius = [\n",
    "    0, 5, 10, 15, 20, 25,\n",
    "    30, 35, 40, 45, 50\n",
    "]\n",
    "\n",
    "for celcius in temperatures_celsius:\n",
    "    farenheit = celcius*9/5+32\n",
    "    print(f'Celcius: {celcius}, Farenheit: {farenheit}')"
   ]
  },
  {
   "cell_type": "code",
   "execution_count": null,
   "id": "f083e340",
   "metadata": {},
   "outputs": [
    {
     "name": "stdout",
     "output_type": "stream",
     "text": [
      "0 , 32.0\n",
      "5 , 41.0\n",
      "10 , 50.0\n",
      "15 , 59.0\n",
      "20 , 68.0\n",
      "25 , 77.0\n",
      "30 , 86.0\n",
      "35 , 95.0\n",
      "40 , 104.0\n",
      "45 , 113.0\n",
      "50 , 122.0\n"
     ]
    }
   ],
   "source": [
    "import numpy as np                                      #using for and enumerate\n",
    "temperatures_celsius = [\n",
    "    0, 5, 10, 15, 20, 25,\n",
    "    30, 35, 40, 45, 50\n",
    "]\n",
    "\n",
    "celcius_array = np.array(temperatures_celsius)\n",
    "\n",
    "farenheit_array = celcius_array*9/5+32                  \n",
    "\n",
    "farenheit_array\n",
    "\n",
    "for index, celcius_temp in enumerate(celcius_array):       #index is a counting variable, defines celcius_temp as a variable in celcius_array, allows us to cycle thru celcius_array the number of times there are elements\n",
    "    farenheit_temp = farenheit_array[index]                #allows us to cycle thru farenheit_array, where each element is farenheit_temp\n",
    "    print(celcius_temp,',', farenheit_temp)                #prints"
   ]
  },
  {
   "cell_type": "code",
   "execution_count": 2,
   "id": "72f35d5e",
   "metadata": {},
   "outputs": [
    {
     "name": "stdout",
     "output_type": "stream",
     "text": [
      "0, 32.0\n",
      "5, 41.0\n",
      "10, 50.0\n",
      "15, 59.0\n",
      "20, 68.0\n",
      "25, 77.0\n",
      "30, 86.0\n",
      "35, 95.0\n",
      "40, 104.0\n",
      "45, 113.0\n",
      "50, 122.0\n"
     ]
    }
   ],
   "source": [
    "import numpy as np                                      #using for and range\n",
    "temperatures_celsius = [\n",
    "    0, 5, 10, 15, 20, 25,\n",
    "    30, 35, 40, 45, 50\n",
    "]\n",
    "\n",
    "celcius_array = np.array(temperatures_celsius)\n",
    "\n",
    "farenheit_array = celcius_array*9/5+32\n",
    "\n",
    "farenheit_array\n",
    "\n",
    "for i in range(len(celcius_array)):\n",
    "    celcius_temp1 = celcius_array[i]\n",
    "    farenheit_temp1 = farenheit_array[i]\n",
    "    print(f'{celcius_temp1}, {farenheit_temp1}')"
   ]
  },
  {
   "cell_type": "code",
   "execution_count": 3,
   "id": "a84b9a9a",
   "metadata": {},
   "outputs": [
    {
     "name": "stdout",
     "output_type": "stream",
     "text": [
      "0, 32.0\n",
      "5, 41.0\n",
      "10, 50.0\n",
      "15, 59.0\n",
      "20, 68.0\n",
      "25, 77.0\n",
      "30, 86.0\n",
      "35, 95.0\n",
      "40, 104.0\n",
      "45, 113.0\n",
      "50, 122.0\n"
     ]
    }
   ],
   "source": [
    "import numpy as np                                  #using while and f string\n",
    "temperatures_celsius = [\n",
    "    0, 5, 10, 15, 20, 25,\n",
    "    30, 35, 40, 45, 50\n",
    "]\n",
    "\n",
    "celcius_array = np.array(temperatures_celsius)\n",
    "\n",
    "farenheit_array = celcius_array*9/5+32\n",
    "\n",
    "farenheit_array\n",
    "\n",
    "max_count = len(temperatures_celsius)\n",
    "index = 0\n",
    "\n",
    "while index != max_count:\n",
    "    print(f'{celcius_array[index]}, {farenheit_array[index]}')      #how to use while and loop thru the list?\n",
    "    index += 1"
   ]
  },
  {
   "cell_type": "markdown",
   "id": "cab3f984",
   "metadata": {},
   "source": [
    "# Exercise 2"
   ]
  },
  {
   "cell_type": "code",
   "execution_count": 22,
   "id": "3dbd3db2",
   "metadata": {},
   "outputs": [
    {
     "name": "stdout",
     "output_type": "stream",
     "text": [
      "A1\tA2\tA3\t\n",
      "\n",
      "B1\tB2\tB3\t\n",
      "\n",
      "C1\tC2\tC3\t\n",
      "\n"
     ]
    }
   ],
   "source": [
    "for letter in ['A', 'B', 'C']:\n",
    "    for number in [1, 2, 3]:\n",
    "        print(f'{letter}{number}', end='\\t')\n",
    "    print('\\n')"
   ]
  },
  {
   "cell_type": "code",
   "execution_count": 12,
   "id": "aaa64324",
   "metadata": {},
   "outputs": [
    {
     "name": "stdout",
     "output_type": "stream",
     "text": [
      "[1, 2, 3, 4, 5]\n",
      "1:1\t2\t3\t4\t5\t\n",
      "\n",
      "2:2\t4\t6\t8\t10\t\n",
      "\n",
      "3:3\t6\t9\t12\t15\t\n",
      "\n",
      "4:4\t8\t12\t16\t20\t\n",
      "\n",
      "5:5\t10\t15\t20\t25\t\n",
      "\n"
     ]
    }
   ],
   "source": [
    "number_list = []\n",
    "while len(number_list) != 5:\n",
    "    number_list.append(len(number_list)+1)\n",
    "\n",
    "print(number_list)                          # This gets us the list to use for multiplication without needing to manually enter them.\n",
    "\n",
    "\n",
    "\n",
    "\n",
    "for count in number_list:                       #first layer: defines count list\n",
    "    print(f'{count}', end=':')                  #prints the current count and ends such that python does not start new line\n",
    "    for number in [1,2,3,4,5]:                  #second layer after printing current count: defines number list\n",
    "        print(f'{count*number}', end='\\t')      #prints the multiplied result and ends with tab to space them out, does so 5 times cuz of number\n",
    "    print('\\n')                                 #prints new line as second loop finishes once, finishing up the first loop once and repeats for number in count"
   ]
  },
  {
   "cell_type": "code",
   "execution_count": null,
   "id": "4c3d2a36",
   "metadata": {},
   "outputs": [
    {
     "name": "stdout",
     "output_type": "stream",
     "text": [
      "1 : 1   2   3   4   5   \n",
      "\n",
      "2 : 2   4   6   8   10  \n",
      "\n",
      "3 : 3   6   9   12  15  \n",
      "\n",
      "4 : 4   8   12  16  20  \n",
      "\n",
      "5 : 5   10  15  20  25  \n",
      "\n"
     ]
    }
   ],
   "source": [
    "number_list = []\n",
    "while len(number_list) != 5:\n",
    "    number_list.append(len(number_list)+1)      # This gets us the list to use for multiplication without needing to manually enter them.\n",
    "\n",
    "\n",
    "for count in number_list:                       #first layer: defines count list\n",
    "    print(f'{count:<2}', end=': ')              #prints the current count and ends such that python does not start new line\n",
    "    for number in [1,2,3,4,5]:                  #second layer after printing current count: defines number list\n",
    "        print(f'{count*number:<4}', end='')     #prints the multiplied result and ends with '' to make sure it doesnt continue on a new line\n",
    "    print('\\n')                                 #prints new line as second loop finishes once, finishing up the first loop once and repeats for number in count"
   ]
  },
  {
   "cell_type": "code",
   "execution_count": null,
   "id": "3c38ccd3",
   "metadata": {},
   "outputs": [],
   "source": []
  },
  {
   "cell_type": "markdown",
   "id": "d06b98cd",
   "metadata": {},
   "source": [
    "# Exercise 3"
   ]
  },
  {
   "cell_type": "code",
   "execution_count": 42,
   "id": "0a93029c",
   "metadata": {},
   "outputs": [
    {
     "data": {
      "text/plain": [
       "array([0.8679335 , 0.47768407, 0.60416001, 0.78155588, 0.40681886,\n",
       "       0.56473058, 0.13079273, 0.24798378, 0.82088508, 0.66472478])"
      ]
     },
     "execution_count": 42,
     "metadata": {},
     "output_type": "execute_result"
    }
   ],
   "source": [
    "np.random.rand(10)"
   ]
  },
  {
   "cell_type": "code",
   "execution_count": null,
   "id": "99e505a8",
   "metadata": {},
   "outputs": [
    {
     "name": "stdout",
     "output_type": "stream",
     "text": [
      "Experiment  1: No. of Heads = 4\n",
      "Experiment  2: No. of Heads = 5\n",
      "Experiment  3: No. of Heads = 5\n",
      "Experiment  4: No. of Heads = 6\n",
      "Experiment  5: No. of Heads = 3\n",
      "Experiment  6: No. of Heads = 7\n",
      "Experiment  7: No. of Heads = 8\n",
      "Experiment  8: No. of Heads = 6\n",
      "Experiment  9: No. of Heads = 2\n",
      "Experiment 10: No. of Heads = 4\n"
     ]
    }
   ],
   "source": [
    "experiment_number=1                                                                         #defines variable to be used later\n",
    "for experiment in range(10):                                                                #loop 10 times\n",
    "    results_array = np.random.rand(10)                                                      #runs rng 10 times and puts it in an array\n",
    "    head_results_array = results_array[results_array>0.5]                                   #takes only heads in the array\n",
    "    print(f'Experiment {experiment_number:>2}: No. of Heads = {len(head_results_array)}')   #prints the string and takes the no. of elements in the heads array\n",
    "    experiment_number +=1                                                                   #increases the experiment no. and repeats after this"
   ]
  },
  {
   "cell_type": "code",
   "execution_count": null,
   "id": "1f8df937",
   "metadata": {},
   "outputs": [
    {
     "name": "stdout",
     "output_type": "stream",
     "text": [
      "Experiment  1: No. of Heads = 5\n",
      "Experiment  2: No. of Heads = 4\n",
      "Experiment  3: No. of Heads = 9\n",
      "Experiment  4: No. of Heads = 7\n",
      "Experiment  5: No. of Heads = 4\n",
      "Experiment  6: No. of Heads = 2\n",
      "Experiment  7: No. of Heads = 6\n",
      "Experiment  8: No. of Heads = 5\n",
      "Experiment  9: No. of Heads = 4\n",
      "Experiment 10: No. of Heads = 7\n"
     ]
    }
   ],
   "source": [
    "# Resolving comment with one step lesser\n",
    "experiment_number=1                                                                                       #defines variable to be used later\n",
    "for experiment in range(10):                                                                              #loop 10 times\n",
    "    results_array = np.random.rand(10)                                                                    #runs rng 10 times and puts it in an array\n",
    "    print(f'Experiment {experiment_number:>2}: No. of Heads = {len(results_array[results_array>0.5])}')   #prints the string and takes the no. of elements in the heads array\n",
    "    experiment_number +=1                                                                                 #increases the experiment no. and repeats after this"
   ]
  },
  {
   "cell_type": "code",
   "execution_count": null,
   "id": "8056b076",
   "metadata": {},
   "outputs": [],
   "source": []
  }
 ],
 "metadata": {
  "kernelspec": {
   "display_name": "base",
   "language": "python",
   "name": "python3"
  },
  "language_info": {
   "codemirror_mode": {
    "name": "ipython",
    "version": 3
   },
   "file_extension": ".py",
   "mimetype": "text/x-python",
   "name": "python",
   "nbconvert_exporter": "python",
   "pygments_lexer": "ipython3",
   "version": "3.13.5"
  },
  "toc": {
   "base_numbering": 1,
   "nav_menu": {},
   "number_sections": true,
   "sideBar": true,
   "skip_h1_title": false,
   "title_cell": "Table of Contents",
   "title_sidebar": "Contents",
   "toc_cell": false,
   "toc_position": {},
   "toc_section_display": true,
   "toc_window_display": false
  }
 },
 "nbformat": 4,
 "nbformat_minor": 5
}

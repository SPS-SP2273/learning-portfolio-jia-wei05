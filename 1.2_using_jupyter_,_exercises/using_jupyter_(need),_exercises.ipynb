{
 "cells": [
  {
   "attachments": {},
   "cell_type": "markdown",
   "id": "123456",
   "metadata": {},
   "source": [
    "<div style=\"text-align:left;font-size:2em\"><span style=\"font-weight:bolder;font-size:1.25em\">SP2273 | Learning Portfolio</span><br><br><span style=\"font-weight:bold;color:darkred\">Using Jupyter (Need), Exercises</span></div>"
   ]
  },
  {
   "attachments": {},
   "cell_type": "markdown",
   "id": "123456",
   "metadata": {},
   "source": [
    "## 1 Quadratic Equations"
   ]
  },
  {
   "attachments": {},
   "cell_type": "markdown",
   "id": "123456",
   "metadata": {},
   "source": [
    "### Introduction"
   ]
  },
  {
   "cell_type": "markdown",
   "id": "123456",
   "metadata": {},
   "source": [
    "![](https://upload.wikimedia.org/wikipedia/commons/thumb/f/f8/Polynomialdeg2.svg/300px-Polynomialdeg2.svg.png)\n",
    "\n",
    "(Image from the [Wikipedia page on Quadratic Equations](https://en.wikipedia.org/wiki/Quadratic_equation))\n",
    "\n",
    "The general form of a quadratic equation is:\n",
    "\n",
    "$ax^2 + bx + c = 0$\n",
    "\n",
    "\n",
    "### Solutions\n",
    "\n",
    "Provided $a \\ne 0$, we can use an elementary algebraic method called completing the square to show that a quadratic equation has the following solution:\n",
    "\n",
    "$$\n",
    "x = \\dfrac{-b\\pm \\sqrt{b^2-4ac}}{2a}\n",
    "$$\n",
    "\n",
    "### Discriminant\n",
    "\n",
    "The quantity $\\Delta = b^2 - 4ac$ is called the discriminant of the equation and decides the nature of its solutions. The table below shows the various possibilities.\n",
    "\n",
    "| Discriminant         | Roots                                |\n",
    "|:--|--:|\n",
    "| $\\Delta=b^2-4ac=0$   | A single solution of $-b/(2a)$       |\n",
    "| $\\Delta=b^2-4ac\\gt0$ | Two distinct solutions               |\n",
    "| $\\Delta=b^2-4ac\\lt0$ | No real solutions, both are complex. |\n"
   ]
  },
  {
   "cell_type": "markdown",
   "id": "3939c459",
   "metadata": {},
   "source": [
    "## Exercise 2"
   ]
  },
  {
   "cell_type": "markdown",
   "id": "2e24b5ba",
   "metadata": {},
   "source": [
    "1. What is a Git repository?\n",
    "It is a folder on the GitHub server that stores a file. The file in this case is the learning portfolio which contains all the code and texts I write for this module.\n",
    "\n",
    "1. Git keeps track of changes in the files in our repository.\n",
    "\n",
    "1. What is a commit?\n",
    "A commit is deciding to track certain changes you have made to the files in your local repository. A note can be attached to a commit for organisation/information. \n",
    "\n",
    "1. What is a push?\n",
    "A push is sharing the changes tracked in a commit to the repository in the GitHub server where everyone can access and see them.\n",
    "\n",
    "1. What is a pull?\n",
    "A pull is saving changes from the GitHub server repository to your local device so that you can access them/work on new changes others have made.\n",
    "\n",
    "1. What is the difference between GitHub and GitHub Desktop?\n",
    "GitHub mainly deals with your repository in the cloud such as looking through files in the repository. GitHub Desktop is more like an interface with your local device where you can push and pull changes as well as clone local files."
   ]
  },
  {
   "cell_type": "markdown",
   "id": "fc2c1991",
   "metadata": {},
   "source": [
    "# Exercise 3"
   ]
  },
  {
   "cell_type": "markdown",
   "id": "0f2efbd9",
   "metadata": {},
   "source": [
    "$\\mu=\\frac{1}{n}\\sum\\limits_{i=1}^{n}x_i$\n",
    "\n",
    "$\\sigma=\\sqrt{\\frac{1}{n}\\sum\\limits_{i=1}^{n}(x_i-\\mu)^2}$\n",
    "\n",
    "$r=\\frac{\\sum_{i=1}^n(x_i-\\mu_X)(y_i-\\mu_Y)}{\\sqrt{\\sum_{i=1}^{n}(x_i-\\mu_X)^2\\sum_{i=1}^{n}(y_i-\\mu_Y)^2}}$"
   ]
  }
 ],
 "metadata": {
  "kernelspec": {
   "display_name": "Python 3",
   "language": "python",
   "name": "python3"
  },
  "language_info": {
   "codemirror_mode": {
    "name": "ipython",
    "version": 3
   },
   "file_extension": ".py",
   "mimetype": "text/x-python",
   "name": "python",
   "nbconvert_exporter": "python",
   "pygments_lexer": "ipython3",
   "version": "3.10.6 (main, Nov 14 2022, 16:10:14) [GCC 11.3.0]"
  },
  "toc": {
   "base_numbering": 1,
   "nav_menu": {},
   "number_sections": true,
   "sideBar": true,
   "skip_h1_title": false,
   "title_cell": "Table of Contents",
   "title_sidebar": "Contents",
   "toc_cell": false,
   "toc_position": {},
   "toc_section_display": true,
   "toc_window_display": false
  },
  "vscode": {
   "interpreter": {
    "hash": "31f2aee4e71d21fbe5cf8b01ff0e069b9275f58929596ceb00d14d90e3e16cd6"
   }
  }
 },
 "nbformat": 4,
 "nbformat_minor": 5
}
